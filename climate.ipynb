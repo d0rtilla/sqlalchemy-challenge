{
 "cells": [
  {
   "cell_type": "code",
   "execution_count": null,
   "metadata": {},
   "outputs": [],
   "source": [
    "%matplotlib inline\n",
    "from matplotlib import style\n",
    "style.use('fivethirtyeight')\n",
    "import matplotlib.pyplot as plt\n",
    "\n",
    "import matplotlib.dates as mdates"
   ]
  },
  {
   "cell_type": "code",
   "execution_count": null,
   "metadata": {},
   "outputs": [],
   "source": [
    "import numpy as np\n",
    "import pandas as pd\n",
    "import datetime as dt\n",
    "from pprint import pprint\n"
   ]
  },
  {
   "cell_type": "markdown",
   "metadata": {},
   "source": [
    "# Reflect Tables into SQLAlchemy ORM"
   ]
  },
  {
   "cell_type": "code",
   "execution_count": null,
   "metadata": {},
   "outputs": [],
   "source": [
    "# Python SQL toolkit and Object Relational Mapper\n",
    "import sqlalchemy\n",
    "from sqlalchemy.ext.automap import automap_base\n",
    "from sqlalchemy.orm import Session\n",
    "from sqlalchemy import create_engine, func"
   ]
  },
  {
   "cell_type": "code",
   "execution_count": null,
   "metadata": {},
   "outputs": [],
   "source": [
    "# create engine to hawaii.sqlite\n",
    "engine = create_engine(\"sqlite:///Resources/hawaii.sqlite\")"
   ]
  },
  {
   "cell_type": "code",
   "execution_count": null,
   "metadata": {},
   "outputs": [],
   "source": [
    "# reflect an existing database into a new model\n",
    "Base = automap_base()\n",
    "Base.prepare(engine, reflect=True)\n",
    "keys = Base.classes.keys()\n",
    "# reflect the tables\n",
    "print(f'keys =')\n",
    "print(*keys, sep = ', ')"
   ]
  },
  {
   "cell_type": "code",
   "execution_count": null,
   "metadata": {},
   "outputs": [],
   "source": [
    "Measurement = Base.classes.measurement\n",
    "Station = Base.classes.station"
   ]
  },
  {
   "cell_type": "markdown",
   "metadata": {},
   "source": [
    "# Exploratory Precipitation Analysis"
   ]
  },
  {
   "cell_type": "code",
   "execution_count": null,
   "metadata": {},
   "outputs": [],
   "source": [
    "# Find the most recent date in the data set.\n",
    "session = Session(engine)\n",
    "measure_first_row = session.query(Measurement).first()\n",
    "measure_first_row.__dict__"
   ]
  },
  {
   "cell_type": "code",
   "execution_count": null,
   "metadata": {},
   "outputs": [],
   "source": [
    "lastdate = session.query(func.max(Measurement.date)).\\\n",
    "             scalar()\n",
    "\n",
    "dt_lastdate = dt.datetime.strptime(lastdate,\"%Y-%m-%d\").date()\n",
    "dt_startdate = dt_lastdate - dt.timedelta(days=365)\n",
    "startdate = dt_startdate.strftime(\"%Y-%m-%d\")\n",
    "\n",
    "query = session.query(Measurement).\\\n",
    "    filter(Measurement.date.between(startdate, lastdate)).\\\n",
    "    all()\n",
    "\n",
    "session.close()"
   ]
  },
  {
   "cell_type": "code",
   "execution_count": null,
   "metadata": {},
   "outputs": [],
   "source": [
    "dates = []\n",
    "precip = []\n",
    "for row in query:\n",
    "    measurement = row\n",
    "    dates.append(measurement.date)\n",
    "    precip.append(measurement.prcp)"
   ]
  },
  {
   "cell_type": "code",
   "execution_count": null,
   "metadata": {},
   "outputs": [],
   "source": [
    "measurement = pd.DataFrame({'date': dates,\n",
    "                           'precipitation':precip})\n",
    "measurement.dropna(inplace = True)\n",
    "measurement"
   ]
  },
  {
   "cell_type": "code",
   "execution_count": null,
   "metadata": {},
   "outputs": [],
   "source": [
    "measurement.set_index('date', inplace = True)\n",
    "measurement.sort_index(inplace = True)\n",
    "measurement"
   ]
  },
  {
   "cell_type": "code",
   "execution_count": null,
   "metadata": {},
   "outputs": [],
   "source": [
    "plt.style.use('fivethirtyeight')\n",
    "\n",
    "date = measurement.index\n",
    "MDate = mdates.datestr2num(date)\n",
    "precipitation = measurement['precipitation']\n",
    "\n",
    "months_fmt = mdates.DateFormatter('%M')\n",
    "\n",
    "fig, ax = plt.subplots()\n",
    "\n",
    "ax.plot(MDate, precipitation, label = 'precipitation')\n",
    "\n",
    "ax.xaxis.set_major_locator(mdates.MonthLocator())\n",
    "ax.xaxis.set_major_formatter(mdates.DateFormatter(\"%Y-%m\"))\n",
    "fig.autofmt_xdate()\n",
    "\n",
    "datemin = np.datetime64(date[0])\n",
    "datemax = np.datetime64(date[-1])\n",
    "precipmin = precipitation.min()\n",
    "precipmax = precipitation.max() + .25\n",
    "ax.set_xlim(datemin, datemax)\n",
    "ax.set_ylim(precipmin, precipmax)\n",
    "\n",
    "ax.grid(True)\n",
    "ax.legend(loc=9)\n",
    "\n",
    "ax.set_title(\"Precipitation Amounts (8/23/16 - 8/23/17)\")\n",
    "ax.set_ylabel(\"Precipitation (in)\")\n",
    "ax.set_xlabel(\"Dates\")\n",
    "\n",
    "plt.tight_layout\n",
    "\n",
    "plt.savefig('results/precipitation.png')\n",
    "\n",
    "plt.show"
   ]
  },
  {
   "cell_type": "code",
   "execution_count": null,
   "metadata": {},
   "outputs": [],
   "source": [
    "precipitation.describe()"
   ]
  },
  {
   "cell_type": "markdown",
   "metadata": {},
   "source": [
    "# Exploratory Station Analysis"
   ]
  },
  {
   "cell_type": "code",
   "execution_count": null,
   "metadata": {},
   "outputs": [],
   "source": [
    "session = Session(engine)\n",
    "station.__table__"
   ]
  },
  {
   "cell_type": "code",
   "execution_count": null,
   "metadata": {},
   "outputs": [],
   "source": [
    "Measurement.__table__"
   ]
  },
  {
   "cell_type": "code",
   "execution_count": null,
   "metadata": {},
   "outputs": [],
   "source": [
    "station_count = session.query(station).\\\n",
    "                distinct().\\\n",
    "                count()\n",
    "\n",
    "print(f'there are {station_count} stations.')"
   ]
  },
  {
   "cell_type": "code",
   "execution_count": null,
   "metadata": {},
   "outputs": [],
   "source": [
    "by_station_count = session.query(Measurement,\n",
    "                                Measurement.station,\n",
    "                                Station.name,\n",
    "                                func.count(Measurement.station).label('station_count')).\\\n",
    "join(station, Measurement.station == Station.station).\\\n",
    "group_by(Measurement.station).\\\n",
    "order_by(func.count(Measurement.station).desc()).\\\n",
    "all()\n",
    "\n",
    "for row in by_station_count:\n",
    "    print (f'{row.station_count} observations were made at {row.name}')"
   ]
  },
  {
   "cell_type": "code",
   "execution_count": null,
   "metadata": {},
   "outputs": [],
   "source": [
    "top_station_count = session.query(Measurement,\n",
    "                                 Measurement.station,\n",
    "                                 Station.name,\n",
    "                                 func.count(Measurement.station).label(\"station_count\")).\\\n",
    "join(Station, Measurement.station == Station.station).\\\n",
    "group_by(Measurement.station).\\\n",
    "order_by(func.count(Measurement.station).desc()).\\\n",
    "first()\n",
    "\n",
    "print(f'{top_station_count.name} had the most observations with {top_station_count.station_count} observations.')"
   ]
  },
  {
   "cell_type": "code",
   "execution_count": null,
   "metadata": {},
   "outputs": [],
   "source": [
    "top_station = session.query(Measurement.station).\\\n",
    "group_by(Measurement.station).\\\n",
    "order_by(func.count(Measurement.station).desc()).\\\n",
    "first()\n",
    "\n",
    "t_station = top_station.station"
   ]
  },
  {
   "cell_type": "code",
   "execution_count": null,
   "metadata": {},
   "outputs": [],
   "source": [
    "top_station_stats = session.query(Measurement,\n",
    "                                 func.max(Measurement.tobs).label('max_temp'),\n",
    "                                 func.min(Measurement.tobs).label('min_temp'),\n",
    "                                 func.avg(Measurement.tobs).label('avg_temp'),\n",
    "                                 Station.name.label('sta_name')).\\\n",
    "join(Station, Measurement.station == Station.station).\\\n",
    "filter(Measurement.station == t_station).\\\n",
    "first()\n",
    "\n",
    "print(f'{top_station_stats.sta_name} had a maximum temperature of {top_station_stats.max_temp}')\n",
    "print(f'{top_station_stats.sta_name} had a minimum temperature of {top_station_stats.min_temp}')\n",
    "print(f'{top_station_stats.sta_name} had an average temperature of {top_station_stats.avg_temp}')\n",
    "                                "
   ]
  },
  {
   "cell_type": "code",
   "execution_count": null,
   "metadata": {},
   "outputs": [],
   "source": [
    "last12_top_sta_count = session.query(Measurement,\n",
    "                                    Measurement.station,\n",
    "                                    Station.name,\n",
    "                                    func.count(Measurement.station).label('station_count')).\\\n",
    "join(Station, Measurement.station == Station.station).\\\n",
    "filter(Measurement.date.between(startdate,lastdate)).\\\n",
    "group_by(Measurement.station).\\\n",
    "order_by(func.count(Measurement.station).desc()).\\\n",
    "first()\n",
    "\n",
    "print(f'{last12_top_sta_count.name} had the most observations in the last 12 months with {last12_top_sta_count.station_count} observations')"
   ]
  },
  {
   "cell_type": "code",
   "execution_count": null,
   "metadata": {},
   "outputs": [],
   "source": [
    "subquery = session.query(Station.station).filter(Station.name.like('%WAIKIKI%')).subquery()\n",
    "waikiki_last_year = session.query(Measurement).\\\n",
    "filter(Measurement.station.in_(subquery)).\\\n",
    "filter(Measurement.date.between(startdate,lastdate))"
   ]
  },
  {
   "cell_type": "code",
   "execution_count": null,
   "metadata": {},
   "outputs": [],
   "source": [
    "tobs = []\n",
    "for row in waikiki_last_year:\n",
    "    tobs.append(row.tobs)"
   ]
  },
  {
   "cell_type": "code",
   "execution_count": null,
   "metadata": {},
   "outputs": [],
   "source": [
    "fig, ax = plt.subplots(tight_layout=True, sharey=True)\n",
    "\n",
    "ax.hist(tobs, bins=12, label='tobs')\n",
    "\n",
    "ax.set_xlabel('temperature')\n",
    "ax.set_ylabel('no. of instances')\n",
    "ax.set_title('no. of instances of temperature at Waikiki')\n",
    "\n",
    "ax.legend()\n",
    "\n",
    "plt.savefig('results/waikiki-histogram.png')\n",
    "\n",
    "plt.show()"
   ]
  },
  {
   "cell_type": "markdown",
   "metadata": {},
   "source": [
    "# Close session"
   ]
  },
  {
   "cell_type": "code",
   "execution_count": null,
   "metadata": {},
   "outputs": [],
   "source": [
    "# Close Session\n",
    "session.close()"
   ]
  },
  {
   "cell_type": "code",
   "execution_count": null,
   "metadata": {},
   "outputs": [],
   "source": []
  }
 ],
 "metadata": {
  "anaconda-cloud": {},
  "kernel_info": {
   "name": "python3"
  },
  "kernelspec": {
   "display_name": "Python 3 (ipykernel)",
   "language": "python",
   "name": "python3"
  },
  "language_info": {
   "codemirror_mode": {
    "name": "ipython",
    "version": 3
   },
   "file_extension": ".py",
   "mimetype": "text/x-python",
   "name": "python",
   "nbconvert_exporter": "python",
   "pygments_lexer": "ipython3",
   "version": "3.8.13"
  },
  "nteract": {
   "version": "0.12.3"
  },
  "varInspector": {
   "cols": {
    "lenName": 16,
    "lenType": 16,
    "lenVar": 40
   },
   "kernels_config": {
    "python": {
     "delete_cmd_postfix": "",
     "delete_cmd_prefix": "del ",
     "library": "var_list.py",
     "varRefreshCmd": "print(var_dic_list())"
    },
    "r": {
     "delete_cmd_postfix": ") ",
     "delete_cmd_prefix": "rm(",
     "library": "var_list.r",
     "varRefreshCmd": "cat(var_dic_list()) "
    }
   },
   "types_to_exclude": [
    "module",
    "function",
    "builtin_function_or_method",
    "instance",
    "_Feature"
   ],
   "window_display": false
  }
 },
 "nbformat": 4,
 "nbformat_minor": 2
}
